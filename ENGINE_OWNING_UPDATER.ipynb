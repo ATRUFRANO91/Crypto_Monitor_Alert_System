{
 "cells": [
  {
   "cell_type": "code",
   "execution_count": 1,
   "id": "7756558a",
   "metadata": {},
   "outputs": [],
   "source": []
  },
  {
   "cell_type": "code",
   "execution_count": null,
   "id": "490d8125",
   "metadata": {},
   "outputs": [],
   "source": [
    "#pip install selenium"
   ]
  },
  {
   "cell_type": "code",
   "execution_count": 2,
   "id": "da4f8af7",
   "metadata": {},
   "outputs": [],
   "source": [
    "#pip install beautifulsoup4"
   ]
  },
  {
   "cell_type": "code",
   "execution_count": 1,
   "id": "4852546e",
   "metadata": {},
   "outputs": [],
   "source": [
    "#import required modules for the first section\n",
    "from bs4 import BeautifulSoup\n",
    "from selenium import webdriver #import module to obtain data with source code from a website\n",
    "#import requests #import request module to obtain data without source code info from a website: ANOTHER METHOD# \n",
    "import time #used to pause loop while page is loading/scrolling\n",
    "import pandas as pd #used to store information\n",
    "import numpy as np\n",
    "from IPython.display import clear_output\n",
    "\n"
   ]
  },
  {
   "cell_type": "code",
   "execution_count": 2,
   "id": "85cc3509",
   "metadata": {},
   "outputs": [],
   "source": [
    "#Open up a window for the program to browse HTML data and begin webscrapping#\n",
    "browser = webdriver.Chrome() #opens up a single Chrome window#\n",
    "\n",
    "#NOTES:\n",
    "#KEEP THIS SEPERATE\n",
    "##MUST DOWNLOAD FILE AND PLACE INTO FOLDER\n",
    "#Make sure that a window is always open"
   ]
  },
  {
   "cell_type": "code",
   "execution_count": 3,
   "id": "5cc1e4d5",
   "metadata": {},
   "outputs": [],
   "source": [
    "browser.get(\"https://www.engineowning.to/shop/status\") #open website in opened browser"
   ]
  },
  {
   "cell_type": "code",
   "execution_count": 4,
   "id": "a5f7da26",
   "metadata": {},
   "outputs": [],
   "source": [
    "import smtplib\n",
    "from email.mime.multipart import MIMEMultipart\n",
    "from email.mime.text import MIMEText\n",
    "import time\n",
    "\n",
    "from_addr = 'jwillardgibbsss@gmail.com'\n",
    "to_addr = ['6314873479@messaging.sprintpcs.com']\n",
    "msg = MIMEMultipart()\n",
    "msg['From'] = from_addr\n",
    "msg['To'] = \", \".join(to_addr)\n",
    "msg['Subject'] = 'EngineOwning Status Update:'\n",
    "\n",
    "body = \"EngineOwning - Warzone is Active.\"\n",
    "\n",
    "msg.attach(MIMEText(body, 'plain'))\n",
    "\n",
    "smtp_server = smtplib.SMTP('smtp.gmail.com', 587) #Specify Gmail Mail server\n",
    "\n",
    "smtp_server.ehlo() #Send mandatory 'hello' message to SMTP server\n",
    "\n",
    "smtp_server.starttls() #Start TLS Encryption as we're not using SSL.\n",
    "\n",
    "#Login to gmail: Account | Password\n",
    "smtp_server.login(' jwillardgibbsss@gmail.com ', ' Password ')\n",
    "\n",
    "text = msg.as_string()\n"
   ]
  },
  {
   "cell_type": "code",
   "execution_count": null,
   "id": "67c2048a",
   "metadata": {},
   "outputs": [],
   "source": [
    "num_1 = 1\n",
    "num_2 = 2\n",
    "\n",
    "while num_1 < num_2:\n",
    "    soup = BeautifulSoup(browser.page_source, \"lxml\")\n",
    "    hack_status = soup.find_all('span',class_ = \"font-weight-bold\")[8].text\n",
    "    browser.execute_script(\"window.scrollTo(0,document.body.scrollHeight)\")\n",
    "    time.sleep(10)\n",
    "    browser.refresh()\n",
    "    time.sleep(10)\n",
    "    want = 'Undetected'\n",
    "    if hack_status == want: \n",
    "        ##LIST OF OTHER PEOPLE TO SEND TOO\n",
    "        smtp_server.sendmail(from_addr, to_addr, text)\n",
    "        to_addr = ['5166801586@vtext.com']\n",
    "        smtp_server.sendmail(from_addr, to_addr, text)\n",
    "        to_addr = ['6319873643@vtext.com']\n",
    "        smtp_server.sendmail(from_addr, to_addr, text)        \n",
    "        num_1 = 20\n"
   ]
  }
 ],
 "metadata": {
  "kernelspec": {
   "display_name": "Python 3 (ipykernel)",
   "language": "python",
   "name": "python3"
  },
  "language_info": {
   "codemirror_mode": {
    "name": "ipython",
    "version": 3
   },
   "file_extension": ".py",
   "mimetype": "text/x-python",
   "name": "python",
   "nbconvert_exporter": "python",
   "pygments_lexer": "ipython3",
   "version": "3.9.7"
  }
 },
 "nbformat": 4,
 "nbformat_minor": 5
}
